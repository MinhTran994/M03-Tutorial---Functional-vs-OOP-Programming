{
 "cells": [
  {
   "cell_type": "markdown",
   "metadata": {},
   "source": [
    "Sort an Array of 0s, 1s, and 2s"
   ]
  },
  {
   "cell_type": "code",
   "execution_count": 1,
   "metadata": {},
   "outputs": [
    {
     "name": "stdout",
     "output_type": "stream",
     "text": [
      "[0, 1, 1, 1, 2, 2]\n"
     ]
    }
   ],
   "source": [
    "class Sorting():\n",
    "    def sort(self,array,n):\n",
    "        low=0\n",
    "        mid=0\n",
    "        high=n-1\n",
    "        while mid<=high:\n",
    "            if array[mid]==0:\n",
    "                array[mid],array[low]=array[low],array[mid]\n",
    "                mid+=1\n",
    "                low+=1\n",
    "            elif array[mid]==1:\n",
    "                mid+=1\n",
    "            else:\n",
    "                array[mid],array[high]=array[high],array[mid]\n",
    "                high-=1\n",
    "array1=[0,2,1,1,2,1]\n",
    "sorted_array=Sorting()\n",
    "sorted_array.sort(array1,6)\n",
    "print(array1)\n",
    "\n",
    "\n",
    "\n"
   ]
  },
  {
   "cell_type": "markdown",
   "metadata": {},
   "source": [
    "Binary Search"
   ]
  },
  {
   "cell_type": "code",
   "execution_count": 2,
   "metadata": {},
   "outputs": [
    {
     "name": "stdout",
     "output_type": "stream",
     "text": [
      "Find it at index 3\n"
     ]
    },
    {
     "data": {
      "text/plain": [
       "3"
      ]
     },
     "execution_count": 2,
     "metadata": {},
     "output_type": "execute_result"
    }
   ],
   "source": [
    "def binary(arr,x):\n",
    "    begin_i = 0\n",
    "    end_i = len(arr)-1\n",
    "    while begin_i<=end_i:\n",
    "        mid_i=begin_i + (end_i-begin_i)//2\n",
    "        if arr[mid_i]==x:\n",
    "            print(\"Find it at index\",mid_i)\n",
    "            return mid_i\n",
    "        elif arr[mid_i]<x:\n",
    "            begin_i=mid_i+1\n",
    "        else:\n",
    "            end_i=mid_i-1\n",
    "array2=[2,4,8,9,10,15]\n",
    "x=10\n",
    "binary(array2,9)\n"
   ]
  },
  {
   "cell_type": "markdown",
   "metadata": {},
   "source": [
    "clear output"
   ]
  },
  {
   "cell_type": "code",
   "execution_count": 3,
   "metadata": {},
   "outputs": [],
   "source": [
    "n=10"
   ]
  }
 ],
 "metadata": {
  "kernelspec": {
   "display_name": "Python 3",
   "language": "python",
   "name": "python3"
  },
  "language_info": {
   "codemirror_mode": {
    "name": "ipython",
    "version": 3
   },
   "file_extension": ".py",
   "mimetype": "text/x-python",
   "name": "python",
   "nbconvert_exporter": "python",
   "pygments_lexer": "ipython3",
   "version": "3.12.3"
  }
 },
 "nbformat": 4,
 "nbformat_minor": 2
}
